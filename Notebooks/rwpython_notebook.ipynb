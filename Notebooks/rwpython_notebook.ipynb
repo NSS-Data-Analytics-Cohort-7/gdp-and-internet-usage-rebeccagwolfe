{
 "cells": [
  {
   "cell_type": "code",
   "execution_count": null,
   "id": "e3e35be8",
   "metadata": {},
   "outputs": [],
   "source": []
  },
  {
   "cell_type": "markdown",
   "id": "722cb365",
   "metadata": {},
   "source": [
    "Number 5: Using the pandas read_csv() method, read the GDP dataset into your notebook as a DataFrame called gdp_df. Take a look at the first 6 rows."
   ]
  },
  {
   "cell_type": "markdown",
   "id": "6630c05a",
   "metadata": {},
   "source": [
    "# Question 3: \n",
    "Import the required packages with their customary aliases as follows:\n",
    "\n",
    "import pandas as pd\n",
    "import numpy as np\n",
    "import matplotlib.pyplot as plt\n",
    "import seaborn as sns"
   ]
  },
  {
   "cell_type": "code",
   "execution_count": 2,
   "id": "617e09d0",
   "metadata": {},
   "outputs": [],
   "source": [
    "import pandas as pd"
   ]
  },
  {
   "cell_type": "code",
   "execution_count": 3,
   "id": "f326998c",
   "metadata": {},
   "outputs": [],
   "source": [
    "import numpy as np"
   ]
  },
  {
   "cell_type": "code",
   "execution_count": 4,
   "id": "22b1eb14",
   "metadata": {},
   "outputs": [],
   "source": [
    "import matplotlib.pyplot as plt"
   ]
  },
  {
   "cell_type": "code",
   "execution_count": 5,
   "id": "36eb6667",
   "metadata": {},
   "outputs": [],
   "source": [
    "import seaborn as sns"
   ]
  },
  {
   "cell_type": "markdown",
   "id": "abb590eb",
   "metadata": {},
   "source": [
    "# Question 4:\n",
    "Use the %matplotlib inline magic command so that your plots show in the notebook without having to call plt.show() every time."
   ]
  },
  {
   "cell_type": "code",
   "execution_count": 6,
   "id": "f0a6ec2a",
   "metadata": {},
   "outputs": [],
   "source": [
    "%matplotlib inline"
   ]
  },
  {
   "cell_type": "markdown",
   "id": "9cfe0ad3",
   "metadata": {},
   "source": [
    "# Question 5: \n",
    "Using the pandas read_csv() method, read the GDP dataset into your notebook as a DataFrame called gdp_df. Take a look at the first 6 rows."
   ]
  },
  {
   "cell_type": "code",
   "execution_count": 7,
   "id": "2e1e1832",
   "metadata": {},
   "outputs": [
    {
     "name": "stdout",
     "output_type": "stream",
     "text": [
      "  Country or Area  Year        Value  Value Footnotes\n",
      "1     Afghanistan  2018  2033.779002              NaN\n",
      "2     Afghanistan  2017  2058.383832              NaN\n",
      "3     Afghanistan  2016  2057.062164              NaN\n",
      "4     Afghanistan  2015  2068.265904              NaN\n",
      "5     Afghanistan  2014  2102.385234              NaN\n",
      "6     Afghanistan  2013  2116.465454              NaN\n"
     ]
    }
   ],
   "source": [
    "gdp_df = pd.read_csv(\"../Data/gdp_percapita.csv\", nrows=6868)\n",
    "print(gdp_df[1:7])"
   ]
  },
  {
   "cell_type": "markdown",
   "id": "54735609",
   "metadata": {},
   "source": [
    "# Question 6: \n",
    "Repeat for the internet use dataset. Call this DataFrame internet_df. Take a look at the first six rows."
   ]
  },
  {
   "cell_type": "code",
   "execution_count": 8,
   "id": "7ba0e0cc",
   "metadata": {},
   "outputs": [
    {
     "name": "stdout",
     "output_type": "stream",
     "text": [
      "  Country or Area  Year        Value  Value Footnotes\n",
      "1     Afghanistan  2018  2033.779002              NaN\n",
      "2     Afghanistan  2017  2058.383832              NaN\n",
      "3     Afghanistan  2016  2057.062164              NaN\n",
      "4     Afghanistan  2015  2068.265904              NaN\n",
      "5     Afghanistan  2014  2102.385234              NaN\n",
      "6     Afghanistan  2013  2116.465454              NaN\n"
     ]
    }
   ],
   "source": [
    "internet_df = pd.read_csv(\"../Data/internet_use.csv\", nrows=4495)\n",
    "print(gdp_df[1:7])"
   ]
  },
  {
   "cell_type": "markdown",
   "id": "87566ed0",
   "metadata": {},
   "source": [
    "# Question 7: \n",
    "Look at the shape of each DataFrame - how many rows? How many columns? gdp_df has 6868 rows and 4 columns and internet_df has 4495 rows and 6 columns"
   ]
  },
  {
   "cell_type": "code",
   "execution_count": 9,
   "id": "e36e7cef",
   "metadata": {},
   "outputs": [
    {
     "name": "stdout",
     "output_type": "stream",
     "text": [
      "(6868, 4)\n"
     ]
    }
   ],
   "source": [
    "print(gdp_df.shape)"
   ]
  },
  {
   "cell_type": "code",
   "execution_count": 10,
   "id": "33d04158",
   "metadata": {},
   "outputs": [
    {
     "name": "stdout",
     "output_type": "stream",
     "text": [
      "(4495, 6)\n"
     ]
    }
   ],
   "source": [
    "print(internet_df.shape)"
   ]
  },
  {
   "cell_type": "markdown",
   "id": "e987f144",
   "metadata": {},
   "source": [
    "# Question 8: \n",
    "Take a look at the datatypes for the columns in each DataFrame."
   ]
  },
  {
   "cell_type": "code",
   "execution_count": 11,
   "id": "f2bcac4d",
   "metadata": {},
   "outputs": [
    {
     "name": "stdout",
     "output_type": "stream",
     "text": [
      "Country or Area     object\n",
      "Year                 int64\n",
      "Value              float64\n",
      "Value Footnotes    float64\n",
      "dtype: object\n"
     ]
    }
   ],
   "source": [
    "print(gdp_df.dtypes)"
   ]
  },
  {
   "cell_type": "code",
   "execution_count": 12,
   "id": "065d87da",
   "metadata": {},
   "outputs": [
    {
     "name": "stdout",
     "output_type": "stream",
     "text": [
      "Country or Area     object\n",
      "Year                 int64\n",
      "Value              float64\n",
      "Value Footnotes    float64\n",
      "Unnamed: 4         float64\n",
      "Unnamed: 5         float64\n",
      "dtype: object\n"
     ]
    }
   ],
   "source": [
    "print(internet_df.dtypes)"
   ]
  },
  {
   "cell_type": "markdown",
   "id": "4de4bbf8",
   "metadata": {},
   "source": [
    "# Question 9: \n",
    "Take a look at the last 10 rows of each DataFrame in turn."
   ]
  },
  {
   "cell_type": "code",
   "execution_count": 13,
   "id": "f9a37b7e",
   "metadata": {},
   "outputs": [
    {
     "name": "stdout",
     "output_type": "stream",
     "text": [
      "     Country or Area  Year        Value  Value Footnotes\n",
      "6858        Zimbabwe  1999  3600.849291              NaN\n",
      "6859        Zimbabwe  1998  3653.920016              NaN\n",
      "6860        Zimbabwe  1997  3580.048793              NaN\n",
      "6861        Zimbabwe  1996  3520.430146              NaN\n",
      "6862        Zimbabwe  1995  3226.413930              NaN\n",
      "6863        Zimbabwe  1994  3263.934978              NaN\n",
      "6864        Zimbabwe  1993  3033.504852              NaN\n",
      "6865        Zimbabwe  1992  3054.889178              NaN\n",
      "6866        Zimbabwe  1991  3426.598094              NaN\n",
      "6867        Zimbabwe  1990  3324.348171              NaN\n"
     ]
    }
   ],
   "source": [
    "print(gdp_df[-10:])"
   ]
  },
  {
   "cell_type": "code",
   "execution_count": 14,
   "id": "6dd03c93",
   "metadata": {},
   "outputs": [
    {
     "name": "stdout",
     "output_type": "stream",
     "text": [
      "     Country or Area  Year        Value  Value Footnotes\n",
      "6858        Zimbabwe  1999  3600.849291              NaN\n",
      "6859        Zimbabwe  1998  3653.920016              NaN\n",
      "6860        Zimbabwe  1997  3580.048793              NaN\n",
      "6861        Zimbabwe  1996  3520.430146              NaN\n",
      "6862        Zimbabwe  1995  3226.413930              NaN\n",
      "6863        Zimbabwe  1994  3263.934978              NaN\n",
      "6864        Zimbabwe  1993  3033.504852              NaN\n",
      "6865        Zimbabwe  1992  3054.889178              NaN\n",
      "6866        Zimbabwe  1991  3426.598094              NaN\n",
      "6867        Zimbabwe  1990  3324.348171              NaN\n"
     ]
    }
   ],
   "source": [
    "print(gdp_df[6858:6868])"
   ]
  },
  {
   "cell_type": "code",
   "execution_count": 15,
   "id": "34351619",
   "metadata": {
    "scrolled": true
   },
   "outputs": [
    {
     "name": "stdout",
     "output_type": "stream",
     "text": [
      "     Country or Area  Year     Value  Value Footnotes  Unnamed: 4  Unnamed: 5\n",
      "4485        Zimbabwe  2002  3.994356              NaN         NaN         NaN\n",
      "4486        Zimbabwe  2001  0.799846              NaN         NaN         NaN\n",
      "4487        Zimbabwe  2000  0.401434              NaN         NaN         NaN\n",
      "4488        Zimbabwe  1999  0.161676              NaN         NaN         NaN\n",
      "4489        Zimbabwe  1998  0.081648              NaN         NaN         NaN\n",
      "4490        Zimbabwe  1997  0.033080              NaN         NaN         NaN\n",
      "4491        Zimbabwe  1996  0.016790              NaN         NaN         NaN\n",
      "4492        Zimbabwe  1995  0.007684              NaN         NaN         NaN\n",
      "4493        Zimbabwe  1994  0.001739              NaN         NaN         NaN\n",
      "4494        Zimbabwe  1990  0.000000              NaN         NaN         NaN\n"
     ]
    }
   ],
   "source": [
    "print(internet_df[-10:])"
   ]
  },
  {
   "cell_type": "code",
   "execution_count": 16,
   "id": "f1efa7df",
   "metadata": {},
   "outputs": [
    {
     "name": "stdout",
     "output_type": "stream",
     "text": [
      "     Country or Area  Year     Value  Value Footnotes  Unnamed: 4  Unnamed: 5\n",
      "4485        Zimbabwe  2002  3.994356              NaN         NaN         NaN\n",
      "4486        Zimbabwe  2001  0.799846              NaN         NaN         NaN\n",
      "4487        Zimbabwe  2000  0.401434              NaN         NaN         NaN\n",
      "4488        Zimbabwe  1999  0.161676              NaN         NaN         NaN\n",
      "4489        Zimbabwe  1998  0.081648              NaN         NaN         NaN\n",
      "4490        Zimbabwe  1997  0.033080              NaN         NaN         NaN\n",
      "4491        Zimbabwe  1996  0.016790              NaN         NaN         NaN\n",
      "4492        Zimbabwe  1995  0.007684              NaN         NaN         NaN\n",
      "4493        Zimbabwe  1994  0.001739              NaN         NaN         NaN\n",
      "4494        Zimbabwe  1990  0.000000              NaN         NaN         NaN\n"
     ]
    }
   ],
   "source": [
    "print(internet_df[4485:4495])"
   ]
  },
  {
   "cell_type": "markdown",
   "id": "82eb8e9e",
   "metadata": {},
   "source": [
    "# Question 10: \n",
    "Drop the value footnotes column from both DataFrames. Check that this worked as expected."
   ]
  },
  {
   "cell_type": "code",
   "execution_count": 17,
   "id": "cfd3cc11",
   "metadata": {},
   "outputs": [],
   "source": [
    "internet_df.drop(internet_df.columns[[3]], axis=1, inplace=True)"
   ]
  },
  {
   "cell_type": "code",
   "execution_count": 18,
   "id": "63443d0d",
   "metadata": {},
   "outputs": [
    {
     "name": "stdout",
     "output_type": "stream",
     "text": [
      "     Country or Area  Year     Value  Unnamed: 4  Unnamed: 5\n",
      "0        Afghanistan  2014  6.390000         NaN         NaN\n",
      "1        Afghanistan  2013  5.900000         NaN         NaN\n",
      "2        Afghanistan  2012  5.454545         NaN         NaN\n",
      "3        Afghanistan  2011  5.000000         NaN         NaN\n",
      "4        Afghanistan  2010  4.000000         NaN         NaN\n",
      "...              ...   ...       ...         ...         ...\n",
      "4490        Zimbabwe  1997  0.033080         NaN         NaN\n",
      "4491        Zimbabwe  1996  0.016790         NaN         NaN\n",
      "4492        Zimbabwe  1995  0.007684         NaN         NaN\n",
      "4493        Zimbabwe  1994  0.001739         NaN         NaN\n",
      "4494        Zimbabwe  1990  0.000000         NaN         NaN\n",
      "\n",
      "[4495 rows x 5 columns]\n"
     ]
    }
   ],
   "source": [
    "print(internet_df)"
   ]
  },
  {
   "cell_type": "code",
   "execution_count": 19,
   "id": "e616bd3b",
   "metadata": {},
   "outputs": [],
   "source": [
    "gdp_df.drop(gdp_df.columns[[3]], axis=1, inplace=True)"
   ]
  },
  {
   "cell_type": "code",
   "execution_count": 20,
   "id": "a3162192",
   "metadata": {},
   "outputs": [
    {
     "name": "stdout",
     "output_type": "stream",
     "text": [
      "     Country or Area  Year        Value\n",
      "0        Afghanistan  2019  2065.036398\n",
      "1        Afghanistan  2018  2033.779002\n",
      "2        Afghanistan  2017  2058.383832\n",
      "3        Afghanistan  2016  2057.062164\n",
      "4        Afghanistan  2015  2068.265904\n",
      "...              ...   ...          ...\n",
      "6863        Zimbabwe  1994  3263.934978\n",
      "6864        Zimbabwe  1993  3033.504852\n",
      "6865        Zimbabwe  1992  3054.889178\n",
      "6866        Zimbabwe  1991  3426.598094\n",
      "6867        Zimbabwe  1990  3324.348171\n",
      "\n",
      "[6868 rows x 3 columns]\n"
     ]
    }
   ],
   "source": [
    "print(gdp_df)"
   ]
  },
  {
   "cell_type": "markdown",
   "id": "58d8d074",
   "metadata": {},
   "source": [
    "# Question 11:\n",
    "Change the columns for the GDP Per Capita DataFrame to ‘Country’, ‘Year’, and ‘GDP_Per_Capita’."
   ]
  },
  {
   "cell_type": "markdown",
   "id": "47487425",
   "metadata": {},
   "source": [
    "Syntax:\n",
    "df = df.rename(columns={'oldName1': 'newName1', 'oldName2': 'newName2'})\n",
    "Or rename the existing DataFrame (rather than creating a copy) \n",
    "df.rename(columns={'oldName1': 'newName1', 'oldName2': 'newName2'}, inplace=True)"
   ]
  },
  {
   "cell_type": "code",
   "execution_count": 22,
   "id": "ba924b0f",
   "metadata": {},
   "outputs": [
    {
     "name": "stdout",
     "output_type": "stream",
     "text": [
      "          Country  Year  GDP_Per_Capita\n",
      "0     Afghanistan  2019     2065.036398\n",
      "1     Afghanistan  2018     2033.779002\n",
      "2     Afghanistan  2017     2058.383832\n",
      "3     Afghanistan  2016     2057.062164\n",
      "4     Afghanistan  2015     2068.265904\n",
      "...           ...   ...             ...\n",
      "6863     Zimbabwe  1994     3263.934978\n",
      "6864     Zimbabwe  1993     3033.504852\n",
      "6865     Zimbabwe  1992     3054.889178\n",
      "6866     Zimbabwe  1991     3426.598094\n",
      "6867     Zimbabwe  1990     3324.348171\n",
      "\n",
      "[6868 rows x 3 columns]\n"
     ]
    }
   ],
   "source": [
    "gdp_df.rename(columns = {'Country or Area': 'Country', 'Value':'GDP_Per_Capita'}, inplace = True)\n",
    "print(gdp_df)\n"
   ]
  },
  {
   "cell_type": "markdown",
   "id": "62d3f263",
   "metadata": {},
   "source": [
    "# Question 12:\n",
    "\n",
    "Change the columns for the Internet Users DataFrame to ‘Country’, ‘Year’, and ‘Internet_Users_Pct’."
   ]
  },
  {
   "cell_type": "code",
   "execution_count": 23,
   "id": "eb1fefec",
   "metadata": {},
   "outputs": [
    {
     "name": "stdout",
     "output_type": "stream",
     "text": [
      "          Country  Year  Internet_Users_Pct  Unnamed: 4  Unnamed: 5\n",
      "0     Afghanistan  2014            6.390000         NaN         NaN\n",
      "1     Afghanistan  2013            5.900000         NaN         NaN\n",
      "2     Afghanistan  2012            5.454545         NaN         NaN\n",
      "3     Afghanistan  2011            5.000000         NaN         NaN\n",
      "4     Afghanistan  2010            4.000000         NaN         NaN\n",
      "...           ...   ...                 ...         ...         ...\n",
      "4490     Zimbabwe  1997            0.033080         NaN         NaN\n",
      "4491     Zimbabwe  1996            0.016790         NaN         NaN\n",
      "4492     Zimbabwe  1995            0.007684         NaN         NaN\n",
      "4493     Zimbabwe  1994            0.001739         NaN         NaN\n",
      "4494     Zimbabwe  1990            0.000000         NaN         NaN\n",
      "\n",
      "[4495 rows x 5 columns]\n"
     ]
    }
   ],
   "source": [
    "internet_df.rename(columns = {'Country or Area':'Country', 'Value':'Internet_Users_Pct'}, inplace = True)\n",
    "print(internet_df)"
   ]
  },
  {
   "cell_type": "markdown",
   "id": "de4daed6",
   "metadata": {},
   "source": [
    "# Question 13:\n",
    "Merge the two DataFrames to one. Merge all rows from each of the two DataFrames. Call the new DataFrame gdp_and_internet_use."
   ]
  },
  {
   "cell_type": "markdown",
   "id": "12804623",
   "metadata": {},
   "source": [
    "pandas.merge(left, right, how='inner', on=None, left_on=None, right_on=None, left_index=False, right_index=False, sort=False, suffixes=('_x', '_y'), copy=True, indicator=False, validate=None)[source]"
   ]
  },
  {
   "cell_type": "code",
   "execution_count": 29,
   "id": "abfe1d68",
   "metadata": {},
   "outputs": [
    {
     "ename": "SyntaxError",
     "evalue": "positional argument follows keyword argument (3506290859.py, line 1)",
     "output_type": "error",
     "traceback": [
      "\u001b[1;36m  Input \u001b[1;32mIn [29]\u001b[1;36m\u001b[0m\n\u001b[1;33m    new_df2=pd.merge(internet_df, gdp_df, how='outer', on='Country', 'Year')\u001b[0m\n\u001b[1;37m                                                                           ^\u001b[0m\n\u001b[1;31mSyntaxError\u001b[0m\u001b[1;31m:\u001b[0m positional argument follows keyword argument\n"
     ]
    }
   ],
   "source": [
    "new_df2=pd.merge(internet_df, gdp_df, how='outer', on='Country', 'Year') \n",
    "print(new_df2)"
   ]
  },
  {
   "cell_type": "code",
   "execution_count": 28,
   "id": "f2543e61",
   "metadata": {},
   "outputs": [
    {
     "data": {
      "text/plain": [
       "11363"
      ]
     },
     "execution_count": 28,
     "metadata": {},
     "output_type": "execute_result"
    }
   ],
   "source": []
  },
  {
   "cell_type": "code",
   "execution_count": 30,
   "id": "cf759ec1",
   "metadata": {},
   "outputs": [
    {
     "name": "stdout",
     "output_type": "stream",
     "text": [
      "          Country  Year  Internet_Users_Pct  Unnamed: 4  Unnamed: 5\n",
      "0     Afghanistan  2014            6.390000         NaN         NaN\n",
      "1     Afghanistan  2013            5.900000         NaN         NaN\n",
      "2     Afghanistan  2012            5.454545         NaN         NaN\n",
      "3     Afghanistan  2011            5.000000         NaN         NaN\n",
      "4     Afghanistan  2010            4.000000         NaN         NaN\n",
      "...           ...   ...                 ...         ...         ...\n",
      "3453     Zimbabwe  1997            0.033080         NaN         NaN\n",
      "3454     Zimbabwe  1996            0.016790         NaN         NaN\n",
      "3455     Zimbabwe  1995            0.007684         NaN         NaN\n",
      "3456     Zimbabwe  1994            0.001739         NaN         NaN\n",
      "3457     Zimbabwe  1990            0.000000         NaN         NaN\n",
      "\n",
      "[3458 rows x 5 columns]\n"
     ]
    }
   ],
   "source": [
    "new_df3=internet_df.merge(gdp_df[['Country', 'Year']])\n",
    "print(new_df3)"
   ]
  },
  {
   "cell_type": "code",
   "execution_count": 31,
   "id": "1f61df4c",
   "metadata": {},
   "outputs": [
    {
     "name": "stdout",
     "output_type": "stream",
     "text": [
      "          Country  Year  Internet_Users_Pct  Unnamed: 4  Unnamed: 5  \\\n",
      "0     Afghanistan  2014            6.390000         NaN         NaN   \n",
      "1     Afghanistan  2013            5.900000         NaN         NaN   \n",
      "2     Afghanistan  2012            5.454545         NaN         NaN   \n",
      "3     Afghanistan  2011            5.000000         NaN         NaN   \n",
      "4     Afghanistan  2010            4.000000         NaN         NaN   \n",
      "...           ...   ...                 ...         ...         ...   \n",
      "3453     Zimbabwe  1997            0.033080         NaN         NaN   \n",
      "3454     Zimbabwe  1996            0.016790         NaN         NaN   \n",
      "3455     Zimbabwe  1995            0.007684         NaN         NaN   \n",
      "3456     Zimbabwe  1994            0.001739         NaN         NaN   \n",
      "3457     Zimbabwe  1990            0.000000         NaN         NaN   \n",
      "\n",
      "      GDP_Per_Capita  \n",
      "0        2102.385234  \n",
      "1        2116.465454  \n",
      "2        2075.491747  \n",
      "3        1904.559799  \n",
      "4        1957.029338  \n",
      "...              ...  \n",
      "3453     3580.048793  \n",
      "3454     3520.430146  \n",
      "3455     3226.413930  \n",
      "3456     3263.934978  \n",
      "3457     3324.348171  \n",
      "\n",
      "[3458 rows x 6 columns]\n"
     ]
    }
   ],
   "source": [
    "new_df4=internet_df.merge(gdp_df[['Country', 'Year', 'GDP_Per_Capita']])\n",
    "print(new_df4)"
   ]
  },
  {
   "cell_type": "markdown",
   "id": "48c0290c",
   "metadata": {},
   "source": [
    "# Question 14:\n",
    "Look at the first five rows of your new DataFrame to confirm it merged correctly."
   ]
  },
  {
   "cell_type": "code",
   "execution_count": 34,
   "id": "2889e1b4",
   "metadata": {},
   "outputs": [
    {
     "name": "stdout",
     "output_type": "stream",
     "text": [
      "       Country  Year  Internet_Users_Pct  Unnamed: 4  Unnamed: 5  \\\n",
      "1  Afghanistan  2013            5.900000         NaN         NaN   \n",
      "2  Afghanistan  2012            5.454545         NaN         NaN   \n",
      "3  Afghanistan  2011            5.000000         NaN         NaN   \n",
      "4  Afghanistan  2010            4.000000         NaN         NaN   \n",
      "5  Afghanistan  2009            3.550000         NaN         NaN   \n",
      "\n",
      "   GDP_Per_Capita  \n",
      "1     2116.465454  \n",
      "2     2075.491747  \n",
      "3     1904.559799  \n",
      "4     1957.029338  \n",
      "5     1758.904043  \n"
     ]
    }
   ],
   "source": [
    "print(new_df4.iloc[[1,2,3,4,5]])"
   ]
  },
  {
   "cell_type": "markdown",
   "id": "6855ce73",
   "metadata": {},
   "source": [
    "# Question 15:\n",
    "Look at the last five rows to make sure the data is clean and as expected."
   ]
  },
  {
   "cell_type": "code",
   "execution_count": 36,
   "id": "930d3fcd",
   "metadata": {},
   "outputs": [
    {
     "name": "stdout",
     "output_type": "stream",
     "text": [
      "       Country  Year  Internet_Users_Pct  Unnamed: 4  Unnamed: 5  \\\n",
      "3457  Zimbabwe  1990            0.000000         NaN         NaN   \n",
      "3456  Zimbabwe  1994            0.001739         NaN         NaN   \n",
      "3455  Zimbabwe  1995            0.007684         NaN         NaN   \n",
      "3454  Zimbabwe  1996            0.016790         NaN         NaN   \n",
      "3453  Zimbabwe  1997            0.033080         NaN         NaN   \n",
      "\n",
      "      GDP_Per_Capita  \n",
      "3457     3324.348171  \n",
      "3456     3263.934978  \n",
      "3455     3226.413930  \n",
      "3454     3520.430146  \n",
      "3453     3580.048793  \n"
     ]
    }
   ],
   "source": [
    "print(new_df4.iloc[[-1,-2,-3,-4,-5]])"
   ]
  },
  {
   "cell_type": "markdown",
   "id": "dbce6226",
   "metadata": {},
   "source": [
    "# Question 16: \n",
    "Subset the combined DataFrame to keep only the data for 2004, 2009, and 2014. Check that this happened correctly.\n",
    "\n"
   ]
  },
  {
   "cell_type": "code",
   "execution_count": 38,
   "id": "6da2cbe3",
   "metadata": {},
   "outputs": [
    {
     "name": "stdout",
     "output_type": "stream",
     "text": [
      "                  Country  Year  Internet_Users_Pct  Unnamed: 4  Unnamed: 5  \\\n",
      "10            Afghanistan  2004            0.105809         NaN         NaN   \n",
      "23                Albania  2004            2.420388         NaN         NaN   \n",
      "44                Algeria  2004            4.634475         NaN         NaN   \n",
      "66                 Angola  2004            0.464815         NaN         NaN   \n",
      "86    Antigua and Barbuda  2004           24.266544         NaN         NaN   \n",
      "...                   ...   ...                 ...         ...         ...   \n",
      "3361              Uruguay  2004           17.063098         NaN         NaN   \n",
      "3383           Uzbekistan  2004            2.593725         NaN         NaN   \n",
      "3404              Vanuatu  2004            4.746603         NaN         NaN   \n",
      "3424               Zambia  2004            2.013550         NaN         NaN   \n",
      "3446             Zimbabwe  2004            6.564045         NaN         NaN   \n",
      "\n",
      "      GDP_Per_Capita  \n",
      "10       1200.278256  \n",
      "23       7604.838002  \n",
      "44      10058.435940  \n",
      "66       5593.241537  \n",
      "86      18745.681530  \n",
      "...              ...  \n",
      "3361    12479.966870  \n",
      "3383     3221.189333  \n",
      "3404     2792.356252  \n",
      "3424     2261.766537  \n",
      "3446     2480.859342  \n",
      "\n",
      "[157 rows x 6 columns]\n"
     ]
    }
   ],
   "source": [
    "new_df5 = new_df4[new_df4['Year'] == 2004]\n",
    "print(new_df5)"
   ]
  },
  {
   "cell_type": "code",
   "execution_count": 46,
   "id": "298a8b99",
   "metadata": {},
   "outputs": [
    {
     "name": "stdout",
     "output_type": "stream",
     "text": [
      "                  Country  Year  Internet_Users_Pct  Unnamed: 4  Unnamed: 5  \\\n",
      "10            Afghanistan  2004            0.105809         NaN         NaN   \n",
      "23                Albania  2004            2.420388         NaN         NaN   \n",
      "44                Algeria  2004            4.634475         NaN         NaN   \n",
      "66                 Angola  2004            0.464815         NaN         NaN   \n",
      "86    Antigua and Barbuda  2004           24.266544         NaN         NaN   \n",
      "...                   ...   ...                 ...         ...         ...   \n",
      "3361              Uruguay  2004           17.063098         NaN         NaN   \n",
      "3383           Uzbekistan  2004            2.593725         NaN         NaN   \n",
      "3404              Vanuatu  2004            4.746603         NaN         NaN   \n",
      "3424               Zambia  2004            2.013550         NaN         NaN   \n",
      "3446             Zimbabwe  2004            6.564045         NaN         NaN   \n",
      "\n",
      "      GDP_Per_Capita  \n",
      "10       1200.278256  \n",
      "23       7604.838002  \n",
      "44      10058.435940  \n",
      "66       5593.241537  \n",
      "86      18745.681530  \n",
      "...              ...  \n",
      "3361    12479.966870  \n",
      "3383     3221.189333  \n",
      "3404     2792.356252  \n",
      "3424     2261.766537  \n",
      "3446     2480.859342  \n",
      "\n",
      "[157 rows x 6 columns]\n"
     ]
    }
   ],
   "source": [
    "new_df7 = new_df4[new_df4['Year'] == 2004]\n",
    "print(new_df7)"
   ]
  },
  {
   "cell_type": "code",
   "execution_count": 47,
   "id": "7bc5487e",
   "metadata": {},
   "outputs": [
    {
     "name": "stdout",
     "output_type": "stream",
     "text": [
      "          Country  Year  Internet_Users_Pct  Unnamed: 4  Unnamed: 5  \\\n",
      "0     Afghanistan  2014            6.390000         NaN         NaN   \n",
      "5     Afghanistan  2009            3.550000         NaN         NaN   \n",
      "10    Afghanistan  2004            0.105809         NaN         NaN   \n",
      "13        Albania  2014           60.100000         NaN         NaN   \n",
      "18        Albania  2009           41.200000         NaN         NaN   \n",
      "...           ...   ...                 ...         ...         ...   \n",
      "3419       Zambia  2009            6.310000         NaN         NaN   \n",
      "3424       Zambia  2004            2.013550         NaN         NaN   \n",
      "3436     Zimbabwe  2014           19.890000         NaN         NaN   \n",
      "3441     Zimbabwe  2009           11.360000         NaN         NaN   \n",
      "3446     Zimbabwe  2004            6.564045         NaN         NaN   \n",
      "\n",
      "      GDP_Per_Capita  \n",
      "0        2102.385234  \n",
      "5        1758.904043  \n",
      "10       1200.278256  \n",
      "13      11623.866680  \n",
      "18      10346.864200  \n",
      "...              ...  \n",
      "3419     2917.516220  \n",
      "3424     2261.766537  \n",
      "3436     2955.240287  \n",
      "3441     1925.364381  \n",
      "3446     2480.859342  \n",
      "\n",
      "[482 rows x 6 columns]\n"
     ]
    }
   ],
   "source": [
    "new_df8 =new_df4.loc[new_df4['Year'].isin([2004,2009,2014])]\n",
    "print(new_df8)"
   ]
  },
  {
   "cell_type": "markdown",
   "id": "c0e288ff",
   "metadata": {},
   "source": [
    "# Question 17:\n",
    "Create three new DataFrames, one for 2004, one for 2009, and one for 2014. Give them meaningful names that aren't too long.\n",
    "\n",
    "\n"
   ]
  },
  {
   "cell_type": "code",
   "execution_count": null,
   "id": "eaae4d8c",
   "metadata": {},
   "outputs": [],
   "source": []
  }
 ],
 "metadata": {
  "kernelspec": {
   "display_name": "Python 3 (ipykernel)",
   "language": "python",
   "name": "python3"
  },
  "language_info": {
   "codemirror_mode": {
    "name": "ipython",
    "version": 3
   },
   "file_extension": ".py",
   "mimetype": "text/x-python",
   "name": "python",
   "nbconvert_exporter": "python",
   "pygments_lexer": "ipython3",
   "version": "3.9.12"
  }
 },
 "nbformat": 4,
 "nbformat_minor": 5
}
