{
 "cells": [
  {
   "cell_type": "code",
   "execution_count": null,
   "id": "239e3a76",
   "metadata": {},
   "outputs": [],
   "source": []
  },
  {
   "cell_type": "markdown",
   "id": "722cb365",
   "metadata": {},
   "source": [
    "Number 5: Using the pandas read_csv() method, read the GDP dataset into your notebook as a DataFrame called gdp_df. Take a look at the first 6 rows."
   ]
  },
  {
   "cell_type": "markdown",
   "id": "6630c05a",
   "metadata": {},
   "source": [
    "# Question 3: \n",
    "Import the required packages with their customary aliases as follows:\n",
    "\n",
    "import pandas as pd\n",
    "import numpy as np\n",
    "import matplotlib.pyplot as plt\n",
    "import seaborn as sns"
   ]
  },
  {
   "cell_type": "code",
   "execution_count": 1,
   "id": "617e09d0",
   "metadata": {},
   "outputs": [],
   "source": [
    "import pandas as pd"
   ]
  },
  {
   "cell_type": "code",
   "execution_count": 2,
   "id": "f326998c",
   "metadata": {},
   "outputs": [],
   "source": [
    "import numpy as np"
   ]
  },
  {
   "cell_type": "code",
   "execution_count": 3,
   "id": "22b1eb14",
   "metadata": {},
   "outputs": [],
   "source": [
    "import matplotlib.pyplot as plt"
   ]
  },
  {
   "cell_type": "code",
   "execution_count": 4,
   "id": "36eb6667",
   "metadata": {},
   "outputs": [],
   "source": [
    "import seaborn as sns"
   ]
  },
  {
   "cell_type": "markdown",
   "id": "abb590eb",
   "metadata": {},
   "source": [
    "# Question 4:\n",
    "Use the %matplotlib inline magic command so that your plots show in the notebook without having to call plt.show() every time."
   ]
  },
  {
   "cell_type": "code",
   "execution_count": 5,
   "id": "f0a6ec2a",
   "metadata": {},
   "outputs": [],
   "source": [
    "%matplotlib inline"
   ]
  },
  {
   "cell_type": "markdown",
   "id": "9cfe0ad3",
   "metadata": {},
   "source": [
    "# Question 5: \n",
    "Using the pandas read_csv() method, read the GDP dataset into your notebook as a DataFrame called gdp_df. Take a look at the first 6 rows."
   ]
  },
  {
   "cell_type": "code",
   "execution_count": 6,
   "id": "2e1e1832",
   "metadata": {},
   "outputs": [
    {
     "name": "stdout",
     "output_type": "stream",
     "text": [
      "  Country or Area  Year        Value  Value Footnotes\n",
      "0     Afghanistan  2019  2065.036398              NaN\n",
      "1     Afghanistan  2018  2033.779002              NaN\n",
      "2     Afghanistan  2017  2058.383832              NaN\n",
      "3     Afghanistan  2016  2057.062164              NaN\n",
      "4     Afghanistan  2015  2068.265904              NaN\n",
      "5     Afghanistan  2014  2102.385234              NaN\n"
     ]
    }
   ],
   "source": [
    "gdp_df = pd.read_csv(\"../Data/gdp_percapita.csv\", nrows=6868)\n",
    "print(gdp_df.head(6))"
   ]
  },
  {
   "cell_type": "markdown",
   "id": "54735609",
   "metadata": {},
   "source": [
    "# Question 6: \n",
    "Repeat for the internet use dataset. Call this DataFrame internet_df. Take a look at the first six rows."
   ]
  },
  {
   "cell_type": "code",
   "execution_count": 7,
   "id": "7ba0e0cc",
   "metadata": {},
   "outputs": [
    {
     "name": "stdout",
     "output_type": "stream",
     "text": [
      "  Country or Area  Year        Value  Value Footnotes\n",
      "0     Afghanistan  2019  2065.036398              NaN\n",
      "1     Afghanistan  2018  2033.779002              NaN\n",
      "2     Afghanistan  2017  2058.383832              NaN\n",
      "3     Afghanistan  2016  2057.062164              NaN\n",
      "4     Afghanistan  2015  2068.265904              NaN\n",
      "5     Afghanistan  2014  2102.385234              NaN\n"
     ]
    }
   ],
   "source": [
    "internet_df = pd.read_csv(\"../Data/internet_use.csv\", nrows=4495)\n",
    "print(gdp_df.head(6))"
   ]
  },
  {
   "cell_type": "markdown",
   "id": "87566ed0",
   "metadata": {},
   "source": [
    "# Question 7: \n",
    "Look at the shape of each DataFrame - how many rows? How many columns? gdp_df has 6868 rows and 4 columns and internet_df has 4495 rows and 6 columns"
   ]
  },
  {
   "cell_type": "code",
   "execution_count": 8,
   "id": "e36e7cef",
   "metadata": {},
   "outputs": [
    {
     "name": "stdout",
     "output_type": "stream",
     "text": [
      "(6868, 4)\n"
     ]
    }
   ],
   "source": [
    "print(gdp_df.shape)"
   ]
  },
  {
   "cell_type": "code",
   "execution_count": 9,
   "id": "33d04158",
   "metadata": {},
   "outputs": [
    {
     "name": "stdout",
     "output_type": "stream",
     "text": [
      "(4495, 6)\n"
     ]
    }
   ],
   "source": [
    "print(internet_df.shape)"
   ]
  },
  {
   "cell_type": "markdown",
   "id": "e987f144",
   "metadata": {},
   "source": [
    "# Question 8: \n",
    "Take a look at the datatypes for the columns in each DataFrame."
   ]
  },
  {
   "cell_type": "code",
   "execution_count": 10,
   "id": "f2bcac4d",
   "metadata": {},
   "outputs": [
    {
     "name": "stdout",
     "output_type": "stream",
     "text": [
      "Country or Area     object\n",
      "Year                 int64\n",
      "Value              float64\n",
      "Value Footnotes    float64\n",
      "dtype: object\n"
     ]
    }
   ],
   "source": [
    "print(gdp_df.dtypes)"
   ]
  },
  {
   "cell_type": "code",
   "execution_count": 11,
   "id": "065d87da",
   "metadata": {},
   "outputs": [
    {
     "name": "stdout",
     "output_type": "stream",
     "text": [
      "Country or Area     object\n",
      "Year                 int64\n",
      "Value              float64\n",
      "Value Footnotes    float64\n",
      "Unnamed: 4         float64\n",
      "Unnamed: 5         float64\n",
      "dtype: object\n"
     ]
    }
   ],
   "source": [
    "print(internet_df.dtypes)"
   ]
  },
  {
   "cell_type": "markdown",
   "id": "4de4bbf8",
   "metadata": {},
   "source": [
    "# Question 9: \n",
    "Take a look at the last 10 rows of each DataFrame in turn."
   ]
  },
  {
   "cell_type": "code",
   "execution_count": 12,
   "id": "f9a37b7e",
   "metadata": {},
   "outputs": [
    {
     "name": "stdout",
     "output_type": "stream",
     "text": [
      "     Country or Area  Year        Value  Value Footnotes\n",
      "6858        Zimbabwe  1999  3600.849291              NaN\n",
      "6859        Zimbabwe  1998  3653.920016              NaN\n",
      "6860        Zimbabwe  1997  3580.048793              NaN\n",
      "6861        Zimbabwe  1996  3520.430146              NaN\n",
      "6862        Zimbabwe  1995  3226.413930              NaN\n",
      "6863        Zimbabwe  1994  3263.934978              NaN\n",
      "6864        Zimbabwe  1993  3033.504852              NaN\n",
      "6865        Zimbabwe  1992  3054.889178              NaN\n",
      "6866        Zimbabwe  1991  3426.598094              NaN\n",
      "6867        Zimbabwe  1990  3324.348171              NaN\n"
     ]
    }
   ],
   "source": [
    "print(gdp_df.tail(10))"
   ]
  },
  {
   "cell_type": "code",
   "execution_count": 13,
   "id": "6dd03c93",
   "metadata": {},
   "outputs": [
    {
     "name": "stdout",
     "output_type": "stream",
     "text": [
      "     Country or Area  Year     Value  Value Footnotes  Unnamed: 4  Unnamed: 5\n",
      "4485        Zimbabwe  2002  3.994356              NaN         NaN         NaN\n",
      "4486        Zimbabwe  2001  0.799846              NaN         NaN         NaN\n",
      "4487        Zimbabwe  2000  0.401434              NaN         NaN         NaN\n",
      "4488        Zimbabwe  1999  0.161676              NaN         NaN         NaN\n",
      "4489        Zimbabwe  1998  0.081648              NaN         NaN         NaN\n",
      "4490        Zimbabwe  1997  0.033080              NaN         NaN         NaN\n",
      "4491        Zimbabwe  1996  0.016790              NaN         NaN         NaN\n",
      "4492        Zimbabwe  1995  0.007684              NaN         NaN         NaN\n",
      "4493        Zimbabwe  1994  0.001739              NaN         NaN         NaN\n",
      "4494        Zimbabwe  1990  0.000000              NaN         NaN         NaN\n"
     ]
    }
   ],
   "source": [
    "print(internet_df.tail(10))"
   ]
  },
  {
   "cell_type": "markdown",
   "id": "82eb8e9e",
   "metadata": {},
   "source": [
    "# Question 10: \n",
    "Drop the value footnotes column from both DataFrames. Check that this worked as expected."
   ]
  },
  {
   "cell_type": "code",
   "execution_count": 14,
   "id": "cfd3cc11",
   "metadata": {},
   "outputs": [],
   "source": [
    "internet_df.drop(internet_df.columns[[3]], axis=1, inplace=True)"
   ]
  },
  {
   "cell_type": "code",
   "execution_count": 15,
   "id": "63443d0d",
   "metadata": {},
   "outputs": [
    {
     "name": "stdout",
     "output_type": "stream",
     "text": [
      "     Country or Area  Year     Value  Unnamed: 4  Unnamed: 5\n",
      "0        Afghanistan  2014  6.390000         NaN         NaN\n",
      "1        Afghanistan  2013  5.900000         NaN         NaN\n",
      "2        Afghanistan  2012  5.454545         NaN         NaN\n",
      "3        Afghanistan  2011  5.000000         NaN         NaN\n",
      "4        Afghanistan  2010  4.000000         NaN         NaN\n",
      "...              ...   ...       ...         ...         ...\n",
      "4490        Zimbabwe  1997  0.033080         NaN         NaN\n",
      "4491        Zimbabwe  1996  0.016790         NaN         NaN\n",
      "4492        Zimbabwe  1995  0.007684         NaN         NaN\n",
      "4493        Zimbabwe  1994  0.001739         NaN         NaN\n",
      "4494        Zimbabwe  1990  0.000000         NaN         NaN\n",
      "\n",
      "[4495 rows x 5 columns]\n"
     ]
    }
   ],
   "source": [
    "print(internet_df)"
   ]
  },
  {
   "cell_type": "code",
   "execution_count": 16,
   "id": "00f4ebb5",
   "metadata": {},
   "outputs": [],
   "source": [
    "internet_df.drop(internet_df.columns[[3,4]], axis=1, inplace=True)"
   ]
  },
  {
   "cell_type": "code",
   "execution_count": 17,
   "id": "b957391a",
   "metadata": {},
   "outputs": [
    {
     "name": "stdout",
     "output_type": "stream",
     "text": [
      "     Country or Area  Year     Value\n",
      "0        Afghanistan  2014  6.390000\n",
      "1        Afghanistan  2013  5.900000\n",
      "2        Afghanistan  2012  5.454545\n",
      "3        Afghanistan  2011  5.000000\n",
      "4        Afghanistan  2010  4.000000\n",
      "...              ...   ...       ...\n",
      "4490        Zimbabwe  1997  0.033080\n",
      "4491        Zimbabwe  1996  0.016790\n",
      "4492        Zimbabwe  1995  0.007684\n",
      "4493        Zimbabwe  1994  0.001739\n",
      "4494        Zimbabwe  1990  0.000000\n",
      "\n",
      "[4495 rows x 3 columns]\n"
     ]
    }
   ],
   "source": [
    "print(internet_df)"
   ]
  },
  {
   "cell_type": "code",
   "execution_count": 18,
   "id": "e616bd3b",
   "metadata": {},
   "outputs": [],
   "source": [
    "gdp_df.drop(gdp_df.columns[[3]], axis=1, inplace=True)"
   ]
  },
  {
   "cell_type": "code",
   "execution_count": 19,
   "id": "a3162192",
   "metadata": {},
   "outputs": [
    {
     "name": "stdout",
     "output_type": "stream",
     "text": [
      "     Country or Area  Year        Value\n",
      "0        Afghanistan  2019  2065.036398\n",
      "1        Afghanistan  2018  2033.779002\n",
      "2        Afghanistan  2017  2058.383832\n",
      "3        Afghanistan  2016  2057.062164\n",
      "4        Afghanistan  2015  2068.265904\n",
      "...              ...   ...          ...\n",
      "6863        Zimbabwe  1994  3263.934978\n",
      "6864        Zimbabwe  1993  3033.504852\n",
      "6865        Zimbabwe  1992  3054.889178\n",
      "6866        Zimbabwe  1991  3426.598094\n",
      "6867        Zimbabwe  1990  3324.348171\n",
      "\n",
      "[6868 rows x 3 columns]\n"
     ]
    }
   ],
   "source": [
    "print(gdp_df)"
   ]
  },
  {
   "cell_type": "markdown",
   "id": "58d8d074",
   "metadata": {},
   "source": [
    "# Question 11:\n",
    "Change the columns for the GDP Per Capita DataFrame to ‘Country’, ‘Year’, and ‘GDP_Per_Capita’."
   ]
  },
  {
   "cell_type": "markdown",
   "id": "47487425",
   "metadata": {},
   "source": [
    "Syntax:\n",
    "df = df.rename(columns={'oldName1': 'newName1', 'oldName2': 'newName2'})\n",
    "Or rename the existing DataFrame (rather than creating a copy) \n",
    "df.rename(columns={'oldName1': 'newName1', 'oldName2': 'newName2'}, inplace=True)"
   ]
  },
  {
   "cell_type": "code",
   "execution_count": 20,
   "id": "ba924b0f",
   "metadata": {},
   "outputs": [
    {
     "name": "stdout",
     "output_type": "stream",
     "text": [
      "          Country  Year  GDP_Per_Capita\n",
      "0     Afghanistan  2019     2065.036398\n",
      "1     Afghanistan  2018     2033.779002\n",
      "2     Afghanistan  2017     2058.383832\n",
      "3     Afghanistan  2016     2057.062164\n",
      "4     Afghanistan  2015     2068.265904\n",
      "...           ...   ...             ...\n",
      "6863     Zimbabwe  1994     3263.934978\n",
      "6864     Zimbabwe  1993     3033.504852\n",
      "6865     Zimbabwe  1992     3054.889178\n",
      "6866     Zimbabwe  1991     3426.598094\n",
      "6867     Zimbabwe  1990     3324.348171\n",
      "\n",
      "[6868 rows x 3 columns]\n"
     ]
    }
   ],
   "source": [
    "gdp_df.rename(columns = {'Country or Area': 'Country', 'Value':'GDP_Per_Capita'}, inplace = True)\n",
    "print(gdp_df)\n"
   ]
  },
  {
   "cell_type": "markdown",
   "id": "62d3f263",
   "metadata": {},
   "source": [
    "# Question 12:\n",
    "\n",
    "Change the columns for the Internet Users DataFrame to ‘Country’, ‘Year’, and ‘Internet_Users_Pct’."
   ]
  },
  {
   "cell_type": "code",
   "execution_count": 21,
   "id": "eb1fefec",
   "metadata": {},
   "outputs": [
    {
     "name": "stdout",
     "output_type": "stream",
     "text": [
      "          Country  Year  Internet_Users_Pct\n",
      "0     Afghanistan  2014            6.390000\n",
      "1     Afghanistan  2013            5.900000\n",
      "2     Afghanistan  2012            5.454545\n",
      "3     Afghanistan  2011            5.000000\n",
      "4     Afghanistan  2010            4.000000\n",
      "...           ...   ...                 ...\n",
      "4490     Zimbabwe  1997            0.033080\n",
      "4491     Zimbabwe  1996            0.016790\n",
      "4492     Zimbabwe  1995            0.007684\n",
      "4493     Zimbabwe  1994            0.001739\n",
      "4494     Zimbabwe  1990            0.000000\n",
      "\n",
      "[4495 rows x 3 columns]\n"
     ]
    }
   ],
   "source": [
    "internet_df.rename(columns = {'Country or Area':'Country', 'Value':'Internet_Users_Pct'}, inplace = True)\n",
    "print(internet_df)"
   ]
  },
  {
   "cell_type": "markdown",
   "id": "de4daed6",
   "metadata": {},
   "source": [
    "# Question 13:\n",
    "Merge the two DataFrames to one. Merge all rows from each of the two DataFrames. Call the new DataFrame gdp_and_internet_use."
   ]
  },
  {
   "cell_type": "markdown",
   "id": "12804623",
   "metadata": {},
   "source": [
    "pandas.merge(left, right, how='inner', on=None, left_on=None, right_on=None, left_index=False, right_index=False, sort=False, suffixes=('_x', '_y'), copy=True, indicator=False, validate=None)[source]"
   ]
  },
  {
   "cell_type": "code",
   "execution_count": 22,
   "id": "abfe1d68",
   "metadata": {},
   "outputs": [
    {
     "name": "stdout",
     "output_type": "stream",
     "text": [
      "          Country  Year  Internet_Users_Pct  GDP_Per_Capita\n",
      "0     Afghanistan  2014            6.390000     2102.385234\n",
      "1     Afghanistan  2013            5.900000     2116.465454\n",
      "2     Afghanistan  2012            5.454545     2075.491747\n",
      "3     Afghanistan  2011            5.000000     1904.559799\n",
      "4     Afghanistan  2010            4.000000     1957.029338\n",
      "...           ...   ...                 ...             ...\n",
      "7900     Zimbabwe  2016                 NaN     2934.733650\n",
      "7901     Zimbabwe  2015                 NaN     2958.209004\n",
      "7902     Zimbabwe  1993                 NaN     3033.504852\n",
      "7903     Zimbabwe  1992                 NaN     3054.889178\n",
      "7904     Zimbabwe  1991                 NaN     3426.598094\n",
      "\n",
      "[7905 rows x 4 columns]\n"
     ]
    }
   ],
   "source": [
    "gdp_and_internet_use=pd.merge(internet_df, gdp_df, how='outer', on=['Country', 'Year']) \n",
    "print(gdp_and_internet_use)"
   ]
  },
  {
   "cell_type": "markdown",
   "id": "48c0290c",
   "metadata": {},
   "source": [
    "# Question 14:\n",
    "Look at the first five rows of your new DataFrame to confirm it merged correctly."
   ]
  },
  {
   "cell_type": "code",
   "execution_count": 23,
   "id": "40cb84b2",
   "metadata": {},
   "outputs": [
    {
     "name": "stdout",
     "output_type": "stream",
     "text": [
      "       Country  Year  Internet_Users_Pct  GDP_Per_Capita\n",
      "0  Afghanistan  2014            6.390000     2102.385234\n",
      "1  Afghanistan  2013            5.900000     2116.465454\n",
      "2  Afghanistan  2012            5.454545     2075.491747\n",
      "3  Afghanistan  2011            5.000000     1904.559799\n",
      "4  Afghanistan  2010            4.000000     1957.029338\n"
     ]
    }
   ],
   "source": [
    "print(gdp_and_internet_use.head(5))"
   ]
  },
  {
   "cell_type": "markdown",
   "id": "6855ce73",
   "metadata": {},
   "source": [
    "# Question 15:\n",
    "Look at the last five rows to make sure the data is clean and as expected."
   ]
  },
  {
   "cell_type": "code",
   "execution_count": 24,
   "id": "930d3fcd",
   "metadata": {},
   "outputs": [
    {
     "name": "stdout",
     "output_type": "stream",
     "text": [
      "       Country  Year  Internet_Users_Pct  GDP_Per_Capita\n",
      "7900  Zimbabwe  2016                 NaN     2934.733650\n",
      "7901  Zimbabwe  2015                 NaN     2958.209004\n",
      "7902  Zimbabwe  1993                 NaN     3033.504852\n",
      "7903  Zimbabwe  1992                 NaN     3054.889178\n",
      "7904  Zimbabwe  1991                 NaN     3426.598094\n"
     ]
    }
   ],
   "source": [
    "print(gdp_and_internet_use.tail(5))"
   ]
  },
  {
   "cell_type": "markdown",
   "id": "dbce6226",
   "metadata": {},
   "source": [
    "# Question 16: \n",
    "Subset the combined DataFrame to keep only the data for 2004, 2009, and 2014. Check that this happened correctly.\n",
    "\n"
   ]
  },
  {
   "cell_type": "code",
   "execution_count": 25,
   "id": "7bc5487e",
   "metadata": {},
   "outputs": [
    {
     "name": "stdout",
     "output_type": "stream",
     "text": [
      "                 Country  Year  Internet_Users_Pct  GDP_Per_Capita\n",
      "0            Afghanistan  2014            6.390000     2102.385234\n",
      "5            Afghanistan  2009            3.550000     1758.904043\n",
      "10           Afghanistan  2004            0.105809     1200.278256\n",
      "15               Albania  2014           60.100000    11623.866680\n",
      "20               Albania  2009           41.200000    10346.864200\n",
      "...                  ...   ...                 ...             ...\n",
      "7843  West Bank and Gaza  2009                 NaN     5250.116075\n",
      "7848  West Bank and Gaza  2004                 NaN     4485.525458\n",
      "7864               World  2014                 NaN    15189.648510\n",
      "7869               World  2009                 NaN    13396.524160\n",
      "7874               World  2004                 NaN    12077.823820\n",
      "\n",
      "[830 rows x 4 columns]\n"
     ]
    }
   ],
   "source": [
    "subset =gdp_and_internet_use.loc[gdp_and_internet_use['Year'].isin([2004,2009,2014])]\n",
    "print(subset)"
   ]
  },
  {
   "cell_type": "markdown",
   "id": "c0e288ff",
   "metadata": {},
   "source": [
    "# Question 17:\n",
    "Create three new DataFrames, one for 2004, one for 2009, and one for 2014. Give them meaningful names that aren't too long.\n",
    "\n",
    "\n"
   ]
  },
  {
   "cell_type": "code",
   "execution_count": 30,
   "id": "eaae4d8c",
   "metadata": {
    "scrolled": true
   },
   "outputs": [
    {
     "name": "stdout",
     "output_type": "stream",
     "text": [
      "                  Country  Year  Internet_Users_Pct  GDP_Per_Capita\n",
      "10            Afghanistan  2004            0.105809     1200.278256\n",
      "25                Albania  2004            2.420388     7604.838002\n",
      "46                Algeria  2004            4.634475    10058.435940\n",
      "69                Andorra  2004           26.837954             NaN\n",
      "88                 Angola  2004            0.464815     5593.241537\n",
      "...                   ...   ...                 ...             ...\n",
      "7698               Tuvalu  2004                 NaN     3336.952920\n",
      "7761  Upper middle income  2004                 NaN     8567.061394\n",
      "7818              Vietnam  2004                 NaN     3689.732423\n",
      "7848   West Bank and Gaza  2004                 NaN     4485.525458\n",
      "7874                World  2004                 NaN    12077.823820\n",
      "\n",
      "[276 rows x 4 columns]\n"
     ]
    }
   ],
   "source": [
    "print(subset[subset['Year']==2004])\n"
   ]
  },
  {
   "cell_type": "code",
   "execution_count": 33,
   "id": "b5655877",
   "metadata": {},
   "outputs": [
    {
     "name": "stdout",
     "output_type": "stream",
     "text": [
      "                  Country  Year  Internet_Users_Pct  GDP_Per_Capita\n",
      "10            Afghanistan  2004            0.105809     1200.278256\n",
      "25                Albania  2004            2.420388     7604.838002\n",
      "46                Algeria  2004            4.634475    10058.435940\n",
      "69                Andorra  2004           26.837954             NaN\n",
      "88                 Angola  2004            0.464815     5593.241537\n",
      "...                   ...   ...                 ...             ...\n",
      "7698               Tuvalu  2004                 NaN     3336.952920\n",
      "7761  Upper middle income  2004                 NaN     8567.061394\n",
      "7818              Vietnam  2004                 NaN     3689.732423\n",
      "7848   West Bank and Gaza  2004                 NaN     4485.525458\n",
      "7874                World  2004                 NaN    12077.823820\n",
      "\n",
      "[276 rows x 4 columns]\n"
     ]
    }
   ],
   "source": [
    "df_2004=subset[subset['Year']==2004]\n",
    "print(df_2004)"
   ]
  },
  {
   "cell_type": "markdown",
   "id": "f94ac336",
   "metadata": {},
   "source": [
    "Note: It won't work if my dataframe name starts with a number.."
   ]
  },
  {
   "cell_type": "code",
   "execution_count": 34,
   "id": "85547c80",
   "metadata": {},
   "outputs": [
    {
     "name": "stdout",
     "output_type": "stream",
     "text": [
      "                  Country  Year  Internet_Users_Pct  GDP_Per_Capita\n",
      "5             Afghanistan  2009                3.55     1758.904043\n",
      "20                Albania  2009               41.20    10346.864200\n",
      "41                Algeria  2009               11.23    10782.361400\n",
      "64                Andorra  2009               78.53             NaN\n",
      "83                 Angola  2009                6.00     7643.493749\n",
      "...                   ...   ...                 ...             ...\n",
      "7602           The Gambia  2009                 NaN     2283.183556\n",
      "7756  Upper middle income  2009                 NaN    11212.934080\n",
      "7813              Vietnam  2009                 NaN     4830.304958\n",
      "7843   West Bank and Gaza  2009                 NaN     5250.116075\n",
      "7869                World  2009                 NaN    13396.524160\n",
      "\n",
      "[277 rows x 4 columns]\n"
     ]
    }
   ],
   "source": [
    "df_2009=subset[subset['Year']==2009]\n",
    "print(df_2009)"
   ]
  },
  {
   "cell_type": "code",
   "execution_count": 35,
   "id": "fc0df257",
   "metadata": {},
   "outputs": [
    {
     "name": "stdout",
     "output_type": "stream",
     "text": [
      "                  Country  Year  Internet_Users_Pct  GDP_Per_Capita\n",
      "0             Afghanistan  2014                6.39     2102.385234\n",
      "15                Albania  2014               60.10    11623.866680\n",
      "36                Algeria  2014               18.09    11512.705410\n",
      "59                Andorra  2014               95.90             NaN\n",
      "78                 Angola  2014               21.26     8239.828837\n",
      "...                   ...   ...                 ...             ...\n",
      "7695               Tuvalu  2014                 NaN     3450.793169\n",
      "7751  Upper middle income  2014                 NaN    14275.343980\n",
      "7808              Vietnam  2014                 NaN     6098.489609\n",
      "7838   West Bank and Gaza  2014                 NaN     5967.073437\n",
      "7864                World  2014                 NaN    15189.648510\n",
      "\n",
      "[277 rows x 4 columns]\n"
     ]
    }
   ],
   "source": [
    "df_2014=subset[subset['Year']==2014]\n",
    "print(df_2014)"
   ]
  },
  {
   "cell_type": "markdown",
   "id": "e6e4a0f8",
   "metadata": {},
   "source": [
    "# Question 18:\n",
    "Which country had the highest percentage of internet users in 2014? What was the percentage? (Try typing the first 3 letters of your DataFrame name and hitting the tab key for auto-complete options)."
   ]
  },
  {
   "cell_type": "markdown",
   "id": "1e321fbf",
   "metadata": {},
   "source": [
    "Iceland with 98.16%"
   ]
  },
  {
   "cell_type": "code",
   "execution_count": 36,
   "id": "101a6d72",
   "metadata": {},
   "outputs": [
    {
     "name": "stdout",
     "output_type": "stream",
     "text": [
      "      Country  Year  Internet_Users_Pct  GDP_Per_Capita\n",
      "1866  Iceland  2014               98.16      49652.1495\n"
     ]
    }
   ],
   "source": [
    "print(df_2014.nlargest(1, 'Internet_Users_Pct'))"
   ]
  },
  {
   "cell_type": "markdown",
   "id": "4fc670bf",
   "metadata": {},
   "source": [
    "Note: df.nlargest(1, 'col')"
   ]
  },
  {
   "cell_type": "markdown",
   "id": "056929e4",
   "metadata": {},
   "source": [
    "# Question 19:\n",
    "Which country had the lowest percentage of internet users in 2014? What was the percentage?"
   ]
  },
  {
   "cell_type": "markdown",
   "id": "ecdbaeca",
   "metadata": {},
   "source": [
    "People's Rep of Korea with 0%"
   ]
  },
  {
   "cell_type": "markdown",
   "id": "66a88c51",
   "metadata": {},
   "source": [
    "Note: newdf = df.nsmallest(10, 'Column Name')"
   ]
  },
  {
   "cell_type": "code",
   "execution_count": 39,
   "id": "9e148a1e",
   "metadata": {},
   "outputs": [
    {
     "name": "stdout",
     "output_type": "stream",
     "text": [
      "                          Country  Year  Internet_Users_Pct  GDP_Per_Capita\n",
      "1065  Dem. People's Rep. of Korea  2014                 0.0             NaN\n"
     ]
    }
   ],
   "source": [
    "print(df_2014.nsmallest(1, 'Internet_Users_Pct'))"
   ]
  },
  {
   "cell_type": "markdown",
   "id": "b3895add",
   "metadata": {},
   "source": [
    "# Question 20:\n",
    "Repeat for 2004 and 2009."
   ]
  },
  {
   "cell_type": "markdown",
   "id": "9747e875",
   "metadata": {},
   "source": [
    "2004: highest percentage is Iceland at 93% and lowest is People's Rep. of Korea at 0%.\n",
    "\n",
    "2009: highest percentage is Sweden at 83.89% and lowest is People's Rep. of Korea at 0%."
   ]
  },
  {
   "cell_type": "code",
   "execution_count": 40,
   "id": "41569fde",
   "metadata": {},
   "outputs": [
    {
     "name": "stdout",
     "output_type": "stream",
     "text": [
      "      Country  Year  Internet_Users_Pct  GDP_Per_Capita\n",
      "1871  Iceland  2009                93.0     48177.08412\n",
      "                          Country  Year  Internet_Users_Pct  GDP_Per_Capita\n",
      "1069  Dem. People's Rep. of Korea  2009                 0.0             NaN\n"
     ]
    }
   ],
   "source": [
    "print(df_2009.nlargest(1, 'Internet_Users_Pct'))\n",
    "print(df_2009.nsmallest(1, 'Internet_Users_Pct'))"
   ]
  },
  {
   "cell_type": "code",
   "execution_count": 41,
   "id": "d1057ccf",
   "metadata": {},
   "outputs": [
    {
     "name": "stdout",
     "output_type": "stream",
     "text": [
      "     Country  Year  Internet_Users_Pct  GDP_Per_Capita\n",
      "3835  Sweden  2004               83.89      44496.0234\n",
      "                          Country  Year  Internet_Users_Pct  GDP_Per_Capita\n",
      "1074  Dem. People's Rep. of Korea  2004                 0.0             NaN\n"
     ]
    }
   ],
   "source": [
    "print(df_2004.nlargest(1, 'Internet_Users_Pct'))\n",
    "print(df_2004.nsmallest(1, 'Internet_Users_Pct'))"
   ]
  },
  {
   "cell_type": "markdown",
   "id": "6f43125c",
   "metadata": {},
   "source": [
    "# Question 21: \n",
    "Which country had the highest gdp per capita in 2014? What was the gdp per capita?\n",
    "\n",
    "2014: China with 156514.1338 GDP_Per_Capita"
   ]
  },
  {
   "cell_type": "code",
   "execution_count": 42,
   "id": "51f0fe7a",
   "metadata": {},
   "outputs": [
    {
     "name": "stdout",
     "output_type": "stream",
     "text": [
      "               Country  Year  Internet_Users_Pct  GDP_Per_Capita\n",
      "6394  Macao SAR, China  2014                 NaN     156514.1338\n"
     ]
    }
   ],
   "source": [
    "print(df_2014.nlargest(1, 'GDP_Per_Capita'))"
   ]
  },
  {
   "cell_type": "markdown",
   "id": "715510f1",
   "metadata": {},
   "source": [
    "# Question 22: \n",
    "Which country had the lowest gdp per capita in 2014? What was the gdp per capita?\n",
    "\n",
    "2014: Central African Republic with 822.610458"
   ]
  },
  {
   "cell_type": "code",
   "execution_count": 46,
   "id": "8224539f",
   "metadata": {},
   "outputs": [
    {
     "name": "stdout",
     "output_type": "stream",
     "text": [
      "                       Country  Year  Internet_Users_Pct  GDP_Per_Capita\n",
      "4906  Central African Republic  2014                 NaN      822.610458\n"
     ]
    }
   ],
   "source": [
    "print(df_2014.nsmallest(1, 'GDP_Per_Capita'))"
   ]
  },
  {
   "cell_type": "markdown",
   "id": "5dd35817",
   "metadata": {},
   "source": [
    "# Question 23:\n",
    "Create some scatterplots:\n",
    "a. 2004 Percent Using the Internet vs GDP Per Capita\n",
    "b. 2009 Percent Using the Internet vs GDP Per Capita\n",
    "c. 2014 Percent Using the Internet vs GDP Per Capita"
   ]
  },
  {
   "cell_type": "code",
   "execution_count": 57,
   "id": "65d1f634",
   "metadata": {},
   "outputs": [
    {
     "data": {
      "image/png": "[encoded data removed]",
      "text/plain": [
       "<Figure size 432x288 with 1 Axes>"
      ]
     },
     "metadata": {
      "needs_background": "light"
     },
     "output_type": "display_data"
    }
   ],
   "source": [
    "df_2004.plot.scatter('GDP_Per_Capita', 'Internet_Users_Pct', s=None, c='green')\n",
    "plt.xlabel('GDP Per Capita')\n",
    "plt.ylabel('Percent Using the Internet')\n",
    "plt.title('2004 Percent Using the Internet vs GDP Per Capita')\n",
    "plt.show()\n"
   ]
  },
  {
   "cell_type": "code",
   "execution_count": 58,
   "id": "62664b29",
   "metadata": {},
   "outputs": [
    {
     "data": {
      "image/png": "[encoded data removed]",
      "text/plain": [
       "<Figure size 432x288 with 1 Axes>"
      ]
     },
     "metadata": {
      "needs_background": "light"
     },
     "output_type": "display_data"
    }
   ],
   "source": [
    "df_2009.plot.scatter('GDP_Per_Capita', 'Internet_Users_Pct', s=None, c='green')\n",
    "plt.xlabel('GDP Per Capita')\n",
    "plt.ylabel('Percent Using the Internet')\n",
    "plt.title('2009 Percent Using the Internet vs GDP Per Capita')\n",
    "plt.show()"
   ]
  },
  {
   "cell_type": "code",
   "execution_count": 59,
   "id": "dc981cf9",
   "metadata": {},
   "outputs": [
    {
     "data": {
      "image/png": "[encoded data removed]",
      "text/plain": [
       "<Figure size 432x288 with 1 Axes>"
      ]
     },
     "metadata": {
      "needs_background": "light"
     },
     "output_type": "display_data"
    }
   ],
   "source": [
    "df_2014.plot.scatter('GDP_Per_Capita', 'Internet_Users_Pct', s=None, c='green')\n",
    "plt.xlabel('GDP Per Capita')\n",
    "plt.ylabel('Percent Using the Internet')\n",
    "plt.title('2014 Percent Using the Internet vs GDP Per Capita')\n",
    "plt.show()"
   ]
  },
  {
   "cell_type": "markdown",
   "id": "613804dc",
   "metadata": {},
   "source": [
    "# Question 24:\n",
    "Are there differences across years? What do the plots tell you about any relationship between these two variables? Enter your observations as a markdown cell."
   ]
  },
  {
   "cell_type": "code",
   "execution_count": null,
   "id": "876155dc",
   "metadata": {},
   "outputs": [],
   "source": []
  }
 ],
 "metadata": {
  "kernelspec": {
   "display_name": "Python 3 (ipykernel)",
   "language": "python",
   "name": "python3"
  },
  "language_info": {
   "codemirror_mode": {
    "name": "ipython",
    "version": 3
   },
   "file_extension": ".py",
   "mimetype": "text/x-python",
   "name": "python",
   "nbconvert_exporter": "python",
   "pygments_lexer": "ipython3",
   "version": "3.9.12"
  }
 },
 "nbformat": 4,
 "nbformat_minor": 5
}
